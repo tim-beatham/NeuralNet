{
 "cells": [
  {
   "cell_type": "code",
   "execution_count": 309,
   "metadata": {},
   "outputs": [],
   "source": [
    "import numpy as np  "
   ]
  },
  {
   "cell_type": "code",
   "execution_count": null,
   "metadata": {},
   "outputs": [],
   "source": [
    "def hypothesis(theta, X, logistic=False):\n",
    "    if not logistic:\n",
    "        \n",
    "    else:\n",
    "        "
   ]
  },
  {
   "cell_type": "code",
   "execution_count": 298,
   "metadata": {},
   "outputs": [
    {
     "name": "stdout",
     "output_type": "stream",
     "text": [
      "Converged!\n"
     ]
    },
    {
     "data": {
      "text/plain": [
       "array([[6.66005637e-03],\n",
       "       [1.99983582e+00],\n",
       "       [1.73784921e-03]])"
      ]
     },
     "execution_count": 298,
     "metadata": {},
     "output_type": "execute_result"
    }
   ],
   "source": [
    "def gradient_descent(X, Y, learning_rate=0.01, max_iters=10000, regularization=0.1):\n",
    "    \"\"\"Returns the optimum theta using gradient descent.\n",
    "       Remember that you may need to normalize your data.\n",
    "       We use regu\"\"\"\n",
    "    \n",
    "    # Number of training examples.\n",
    "    m = X.shape[0]\n",
    "\n",
    "    # When true we stop calculating the optimum value of theta.\n",
    "    done = False\n",
    "    \n",
    "    # We declare convergence if J(theta) decreases by less than below.\n",
    "    convergence = 10 ** -7\n",
    "    \n",
    "    # Assign theta to be a value of 0s initially.\n",
    "    theta = np.array([0 for x in range(X.shape[1] + 1)], dtype='float')\n",
    "    theta = np.reshape(theta, (-1,1))\n",
    "    # There should be as many thetas as features.\n",
    "    \n",
    "    \n",
    "    # Need to add ones to X\n",
    "    ones = np.ones((1,m))\n",
    "    \n",
    "    # Append the columns of ones to x\n",
    "    X = np.insert(X, 0, ones, axis=1)        \n",
    "    \n",
    "    for i in range(max_iters):\n",
    "        \n",
    "        # Output if the maximum number of iterations has been reached.\n",
    "        if i == max_iters - 1:\n",
    "            print(\"The maximum number of iterations has been reached!\")\n",
    "        \n",
    "        # Need to copy theta\n",
    "        prev_theta = theta                           \n",
    "                              \n",
    "        # Update theta using the grdient descent formula.\n",
    "        # Remember this requires simultaneous updating.\n",
    "        prediction = np.matmul(X, theta)\n",
    "        \n",
    "        difference = prediction - Y       \n",
    "        \n",
    "        # Calculate the sum.\n",
    "        sigma = np.dot((prediction - Y)[:,0], X).reshape((-1,1))\n",
    "        \n",
    "        theta_0 = theta[0:1, :] - ((learning_rate / m) * sigma[0:1, :])\n",
    "        theta_rest = theta[1:, :] * \\\n",
    "                        (1 - (learning_rate * regularization / m)) - ((learning_rate / m) * sigma[1:,:])\n",
    "\n",
    "                                                                                \n",
    "        theta =  np.insert(theta_rest, 0, theta_0, axis=0)\n",
    "        \n",
    "        \n",
    "        #print(\"Theta: \" + str(theta), \"Prev Theta: \" + str(prev_theta))\n",
    "        \n",
    "        if abs((theta - prev_theta).max(axis=0)) < convergence:\n",
    "            print(\"Converged!\")\n",
    "            break            \n",
    "        \n",
    "    return theta\n",
    "          \n",
    "X = [[1,6], [4,4], [3,3], [9,3], [22,3], [133,3], [33,3], [92,3], [44,3], [54,3], [66,3], [22,3], [27,3]]\n",
    "Y = [[2,6], [8,6], [6,4], [18,5], [44,3], [266,3], [66,3], [184,3], [88,3], [108,3], [132,3], [44,3], [54,3]]\n",
    "Y = np.array(Y, dtype='float')\n",
    "\n",
    "\n",
    "X = np.array(X, dtype='float')\n",
    "\n",
    "gradient_descent(X, Y, learning_rate=0.0001)"
   ]
  },
  {
   "cell_type": "code",
   "execution_count": 308,
   "metadata": {},
   "outputs": [
    {
     "data": {
      "text/plain": [
       "array([[-1.02046289,  3.27805034],\n",
       "       [-0.94038632,  0.84292723],\n",
       "       [-0.96707851, -0.37463432],\n",
       "       [-0.80692538, -0.37463432],\n",
       "       [-0.45992694, -0.37463432],\n",
       "       [ 2.50290596, -0.37463432],\n",
       "       [-0.16631287, -0.37463432],\n",
       "       [ 1.40852624, -0.37463432],\n",
       "       [ 0.12730121, -0.37463432],\n",
       "       [ 0.39422309, -0.37463432],\n",
       "       [ 0.71452935, -0.37463432],\n",
       "       [-0.45992694, -0.37463432],\n",
       "       [-0.32646599, -0.37463432]])"
      ]
     },
     "execution_count": 308,
     "metadata": {},
     "output_type": "execute_result"
    }
   ],
   "source": [
    "def feature_scaling(X):\n",
    "    \"\"\"Uses mean normalization to scale the input.\"\"\"\n",
    "    \n",
    "    # Calculate the mean of each feature.\n",
    "    X_mean = np.mean(X, axis=0).reshape((-1,1))\n",
    "    X_std = np.std(X, axis=0).reshape((-1,1))\n",
    "\n",
    "    # If the standard deviation is 0 then we encounter problems.\n",
    "    if X_std.min(axis=0)[0] == 0:\n",
    "        return None\n",
    "    \n",
    "    return (X - X_mean.T) / X_std.T \n",
    "\n",
    "feature_scaling(X)"
   ]
  },
  {
   "cell_type": "code",
   "execution_count": null,
   "metadata": {},
   "outputs": [],
   "source": []
  },
  {
   "cell_type": "code",
   "execution_count": null,
   "metadata": {},
   "outputs": [],
   "source": []
  }
 ],
 "metadata": {
  "kernelspec": {
   "display_name": "ml",
   "language": "python",
   "name": "ml"
  },
  "language_info": {
   "codemirror_mode": {
    "name": "ipython",
    "version": 3
   },
   "file_extension": ".py",
   "mimetype": "text/x-python",
   "name": "python",
   "nbconvert_exporter": "python",
   "pygments_lexer": "ipython3",
   "version": "3.8.3"
  }
 },
 "nbformat": 4,
 "nbformat_minor": 4
}
