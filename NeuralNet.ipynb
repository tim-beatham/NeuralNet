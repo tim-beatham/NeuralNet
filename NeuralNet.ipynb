{
 "cells": [
  {
   "cell_type": "code",
   "execution_count": 309,
   "metadata": {},
   "outputs": [],
   "source": [
    "import numpy as np  "
   ]
  },
  {
   "cell_type": "code",
   "execution_count": 315,
   "metadata": {},
   "outputs": [],
   "source": [
    "def hypothesis(theta, X, logistic=False):\n",
    "    if logistic:\n",
    "        return 1/(1 + np.exp(np.matmul(X, theta)))\n",
    "    else:\n",
    "        return np.matmul(X, theta)\n",
    "        "
   ]
  },
  {
   "cell_type": "code",
   "execution_count": 331,
   "metadata": {},
   "outputs": [],
   "source": [
    "def gradient_descent_regression(X, Y, theta, learning_rate, max_iters, regularization):\n",
    "        # Update theta using the grdient descent formula.\n",
    "        # Remember this requires simultaneous updating.\n",
    "        prediction = hypothesis(theta, X)\n",
    "        \n",
    "        m = X.shape[0]\n",
    "        \n",
    "        difference = prediction - Y       \n",
    "        \n",
    "        # Calculate the sum.\n",
    "        sigma = np.dot((prediction - Y)[:,0], X).reshape((-1,1))\n",
    "        \n",
    "        theta_0 = theta[0:1, :] - ((learning_rate / m) * sigma[0:1, :])\n",
    "        theta_rest = theta[1:, :] * \\\n",
    "                        (1 - (learning_rate * regularization / m)) - ((learning_rate / m) * sigma[1:,:])\n",
    "\n",
    "                                                                                \n",
    "        return np.insert(theta_rest, 0, theta_0, axis=0)\n",
    "        "
   ]
  },
  {
   "cell_type": "code",
   "execution_count": 332,
   "metadata": {},
   "outputs": [],
   "source": [
    "def gradient_descent_logistic():\n",
    "    pass"
   ]
  },
  {
   "cell_type": "code",
   "execution_count": 336,
   "metadata": {},
   "outputs": [
    {
     "name": "stdout",
     "output_type": "stream",
     "text": [
      "Converged!\n"
     ]
    },
    {
     "data": {
      "text/plain": [
       "array([[0.02660458],\n",
       "       [1.99963987]])"
      ]
     },
     "execution_count": 336,
     "metadata": {},
     "output_type": "execute_result"
    }
   ],
   "source": [
    "def gradient_descent(X, Y, learning_rate=0.01, max_iters=10000, regularization=0.1, logistic=False):\n",
    "    \"\"\"Returns the optimum theta using gradient descent.\n",
    "       Remember that you may need to normalize your data.\n",
    "       We use regu\"\"\"\n",
    "    \n",
    "    # Number of training examples.\n",
    "    m = X.shape[0]\n",
    "\n",
    "    # When true we stop calculating the optimum value of theta.\n",
    "    done = False\n",
    "    \n",
    "    # We declare convergence if J(theta) decreases by less than below.\n",
    "    convergence = 10 ** -7\n",
    "    \n",
    "    # Assign theta to be a value of 0s initially.\n",
    "    theta = np.array([0 for x in range(X.shape[1] + 1)], dtype='float')\n",
    "    theta = np.reshape(theta, (-1,1))\n",
    "    # There should be as many thetas as features.\n",
    "    \n",
    "    \n",
    "    # Need to add ones to X\n",
    "    ones = np.ones((1,m))\n",
    "    \n",
    "    # Append the columns of ones to x\n",
    "    X = np.insert(X, 0, ones, axis=1)        \n",
    "    \n",
    "    for i in range(max_iters):\n",
    "        \n",
    "        # Output if the maximum number of iterations has been reached.\n",
    "        if i == max_iters - 1:\n",
    "            print(\"The maximum number of iterations has been reached!\")\n",
    "        \n",
    "        # Need to copy theta\n",
    "        prev_theta = theta\n",
    "                              \n",
    "        if not logistic:\n",
    "            theta = gradient_descent_regression(X, Y, theta ,learning_rate, max_iters, regularization)\n",
    "        \n",
    "        #print(\"Theta: \" + str(theta), \"Prev Theta: \" + str(prev_theta))\n",
    "        \n",
    "        if abs((theta - prev_theta).max(axis=0)) < convergence:\n",
    "            print(\"Converged!\")\n",
    "            break            \n",
    "        \n",
    "    return theta\n",
    "          \n",
    "X = [[1], [4], [3], [9], [22], [133], [33], [92], [44], [54], [66], [22], [27]]\n",
    "Y = [[2], [8], [6], [18], [44], [266], [66], [184], [88], [108], [132], [44], [54]]\n",
    "Y = np.array(Y, dtype='float')\n",
    "\n",
    "\n",
    "X = np.array(X, dtype='float')\n",
    "\n",
    "gradient_descent(X, Y, learning_rate=0.0001)"
   ]
  },
  {
   "cell_type": "code",
   "execution_count": 321,
   "metadata": {},
   "outputs": [],
   "source": [
    "def feature_scaling(X):\n",
    "    \"\"\"Uses mean normalization to scale the input.\"\"\"\n",
    "    \n",
    "    # Calculate the mean of each feature.\n",
    "    X_mean = np.mean(X, axis=0).reshape((-1,1))\n",
    "    X_std = np.std(X, axis=0).reshape((-1,1))\n",
    "\n",
    "    # If the standard deviation is 0 then we encounter problems.\n",
    "    if X_std.min(axis=0)[0] == 0:\n",
    "        return None\n",
    "    \n",
    "    return (X - X_mean.T) / X_std.T "
   ]
  },
  {
   "cell_type": "code",
   "execution_count": null,
   "metadata": {},
   "outputs": [],
   "source": []
  },
  {
   "cell_type": "code",
   "execution_count": null,
   "metadata": {},
   "outputs": [],
   "source": []
  }
 ],
 "metadata": {
  "kernelspec": {
   "display_name": "ml",
   "language": "python",
   "name": "ml"
  },
  "language_info": {
   "codemirror_mode": {
    "name": "ipython",
    "version": 3
   },
   "file_extension": ".py",
   "mimetype": "text/x-python",
   "name": "python",
   "nbconvert_exporter": "python",
   "pygments_lexer": "ipython3",
   "version": "3.8.3"
  }
 },
 "nbformat": 4,
 "nbformat_minor": 4
}
