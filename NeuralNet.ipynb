{
 "cells": [
  {
   "cell_type": "code",
   "execution_count": 2,
   "metadata": {},
   "outputs": [],
   "source": [
    "import numpy as np  "
   ]
  },
  {
   "cell_type": "code",
   "execution_count": 61,
   "metadata": {},
   "outputs": [],
   "source": [
    "def hypothesis(theta, X, logistic=False):\n",
    "    if logistic:\n",
    "        return 1/(1 + np.exp(-np.matmul(X, theta)))\n",
    "    else:\n",
    "        return np.matmul(X, theta)\n",
    "        "
   ]
  },
  {
   "cell_type": "code",
   "execution_count": 310,
   "metadata": {},
   "outputs": [],
   "source": [
    "def cost_function(X, Y, theta, learning_rate, regularization, logistic):\n",
    "    \"\"\"Calculates the cost and new theta for the given parameters\"\"\"\n",
    "    \n",
    "    # Update theta using the grdient descent formula.\n",
    "    # Remember this requires simultaneous updating.\n",
    "    prediction = hypothesis(theta, X, logistic)\n",
    "\n",
    "    m = X.shape[0]\n",
    "\n",
    "    difference = prediction - Y       \n",
    "\n",
    "    # Calculate the sum.\n",
    "    sigma = np.dot((difference)[:,0], X).reshape((-1,1))\n",
    "\n",
    "    theta_0 = theta[0:1, :] - ((learning_rate / m) * sigma[0:1, :])\n",
    "    theta_rest = theta[1:, :] * \\\n",
    "                    (1 - (learning_rate * regularization / m)) - ((learning_rate / m) * sigma[1:,:])\n",
    "    \n",
    "    # We do not choose the first feature.\n",
    "    square_theta = theta[1:, :] * theta[1:, :]\n",
    "    square_theta = np.sum(square_theta, axis=0)\n",
    "    \n",
    "    if not logistic:           \n",
    "        \n",
    "        square_difference = difference * difference\n",
    "        \n",
    "        sigma = square_difference.sum()\n",
    "\n",
    "        \n",
    "        cost = (1/(2*m)) * (sigma + regularization * square_theta)\n",
    "        \n",
    "    else:\n",
    "        \n",
    "        # Calculate the cost using the logistic function.\n",
    "        log_hypoth = np.log(prediction)\n",
    "      \n",
    "        sigma = (Y * log_hypoth + (1-Y) * np.log(1 - prediction)).sum()\n",
    "        \n",
    "        cost = - (((1/m) * (sigma)) + (regularization/(2*m)) * square_theta)      \n",
    "\n",
    "    return cost, np.insert(theta_rest, 0, theta_0, axis=0)\n"
   ]
  },
  {
   "cell_type": "code",
   "execution_count": 317,
   "metadata": {},
   "outputs": [
    {
     "data": {
      "text/plain": [
       "\"\\nX = [[1], [4], [3], [9], [22], [133], [33], [92], [44], [54], [66], [22], [27]]\\nY = [[2], [8], [6], [18], [44], [266], [66], [184], [88], [108], [132], [44], [54]]\\nY = np.array(Y, dtype='float')\\n\\n\""
      ]
     },
     "execution_count": 317,
     "metadata": {},
     "output_type": "execute_result"
    }
   ],
   "source": [
    "def gradient_descent(X, Y, learning_rate=0.01, max_iters=1000, regularization=0.1, logistic=False):\n",
    "    \"\"\"Returns the optimum theta using gradient descent.\n",
    "       Remember that you may need to Op&miza&on    algorithms:    normalize your data.\n",
    "       We use regu\"\"\"\n",
    "    \n",
    "    print(\"Learning rate\", learning_rate)\n",
    "    \n",
    "    # Number of training Accuracye examples.\n",
    "    m = X.shape[0]\n",
    "\n",
    "    # When true we stop calculating the opAccuracytimum value of theta.\n",
    "    done = False\n",
    "    \n",
    "    # We declare convergence if J(theta) decreases by less than below.\n",
    "    convergence = 10 ** -3\n",
    "    \n",
    "    # Assign theta to be a value of 0s initially.\n",
    "    theta = np.array([0 for x in range(X.shape[1] + 1)], dtype='float')\n",
    "    theta = np.reshape(theta, (-1,1))\n",
    "    # There should be as many thetas as features.\n",
    "    \n",
    "    \n",
    "    # Need to add ones to X\n",
    "    ones = np.ones((1,m))\n",
    "    \n",
    "    # Append the columns of ones to x\n",
    "    X = np.insert(X, 0, ones, axis=1)        \n",
    "    \n",
    "    for i in range(max_iters):\n",
    "        \n",
    "        # Output if the maximum number of iterations has been reached.\n",
    "        if i == max_iters - 1:\n",
    "            print(\"The maximum number of iterations has been reached!\")\n",
    "        \n",
    "        # Need to copy theta\n",
    "        prev_theta = theta\n",
    "    \n",
    "        \n",
    "        cost, theta = cost_function(X, Y, theta, learning_rate, regularization, logistic)\n",
    "    \n",
    "        \n",
    "        if abs((theta - prev_theta).max(axis=0)) < convergence:\n",
    "            print(\"Converged!\")\n",
    "            break            \n",
    "        \n",
    "    return X, theta\n",
    " \n",
    "\"\"\"\n",
    "X = [[1], [4], [3], [9], [22], [133], [33], [92], [44], [54], [66], [22], [27]]\n",
    "Y = [[2], [8], [6], [18], [44], [266], [66], [184], [88], [108], [132], [44], [54]]\n",
    "Y = np.array(Y, dtype='float')\n",
    "\n",
    "\"\"\"\n",
    "\n",
    "\n",
    "#X = np.array(X, dtype='float')\n",
    "\n",
    "#gradient_descehttps://\\.com/questions/51822589/compare-a-numpy-array-to-each-element-of-another-onent(X, Y, learning_rate=0.01)\n",
    "\n"
   ]
  },
  {
   "cell_type": "code",
   "execution_count": 318,
   "metadata": {},
   "outputs": [
    {
     "name": "stdout",
     "output_type": "stream",
     "text": [
      "Learning rate 0.01\n",
      "Converged!\n"
     ]
    },
    {
     "data": {
      "text/plain": [
       "(array([[1., 1.],\n",
       "        [1., 2.],\n",
       "        [1., 3.],\n",
       "        [1., 4.],\n",
       "        [1., 5.],\n",
       "        [1., 6.],\n",
       "        [1., 7.],\n",
       "        [1., 8.]]),\n",
       " array([[0.49266742],\n",
       "        [2.91039308]]))"
      ]
     },
     "execution_count": 318,
     "metadata": {},
     "output_type": "execute_result"
    }
   ],
   "source": [
    "X = [[1], [2], [3], [4], [5], [6], [7], [8]]\n",
    "Y = [[3], [6], [9], [12], [15], [18], [21], [24]]\n",
    "\n",
    "X = np.array(X, dtype='float')\n",
    "Y = np.array(Y, dtype='float')\n",
    "gradient_descent(X, Y, regularization=0.0001)"
   ]
  },
  {
   "cell_type": "code",
   "execution_count": 319,
   "metadata": {},
   "outputs": [],
   "source": [
    "def predict_class(prob):\n",
    "    \"\"\"Returns an array of the hypothesis.\"\"\"\n",
    "    return np.where(prob > 0.5, 1, 0)"
   ]
  },
  {
   "cell_type": "code",
   "execution_count": 320,
   "metadata": {},
   "outputs": [],
   "source": [
    "def feature_scaling(X):\n",
    "    \"\"\"Uses mean normalization to scale the input.\"\"\"\n",
    "    \n",
    "    # Calculate the mean of each feature.\n",
    "    X_mean = np.mean(X, axis=0).reshape((-1,1))\n",
    "    X_std = np.std(X, axis=0).reshape((-1,1))\n",
    "\n",
    "    # If the standard deviation is 0 then we encounter problems.\n",
    "    if X_std.min(axis=0)[0] == 0:\n",
    "        return None\n",
    "    \n",
    "    return (X - X_mean.T) / X_std.T "
   ]
  },
  {
   "cell_type": "code",
   "execution_count": 328,
   "metadata": {},
   "outputs": [
    {
     "name": "stdout",
     "output_type": "stream",
     "text": [
      "Learning rate 0.5\n",
      "Converged!\n",
      "Learning rate 0.5\n",
      "Converged!\n",
      "Learning rate 0.5\n",
      "Converged!\n",
      "Learning rate 0.5\n",
      "Converged!\n",
      "Learning rate 0.5\n",
      "Converged!\n",
      "Learning rate 0.5\n",
      "Converged!\n"
     ]
    },
    {
     "data": {
      "text/plain": [
       "[[0.43525346375480567, 0],\n",
       " [0.1711736992260901, 1],\n",
       " [0.38376150131459924, 2],\n",
       " [0.43525346375480567, 0],\n",
       " [0.1711736992260901, 1],\n",
       " [0.38376150131459924, 2],\n",
       " [0.43525346375480567, 0],\n",
       " [0.1711736992260901, 1],\n",
       " [0.38376150131459924, 2],\n",
       " [0.43525346375480567, 0],\n",
       " [0.1711736992260901, 1],\n",
       " [0.38376150131459924, 2],\n",
       " [0.43525346375480567, 0],\n",
       " [0.1711736992260901, 1],\n",
       " [0.38376150131459924, 2],\n",
       " [0.43525346375480567, 0],\n",
       " [0.1711736992260901, 1],\n",
       " [0.38376150131459924, 2]]"
      ]
     },
     "execution_count": 328,
     "metadata": {},
     "output_type": "execute_result"
    }
   ],
   "source": [
    "def logistic_classification_multi(X, Y, learning_rate=0.01, regularization=0.01, max_iters=1000):\n",
    "    \"\"\"Performs logistic regression multiclass classification\"\"\"\n",
    "    # We need to find the classes in Y\n",
    "    classes = np.unique(Y.flatten())\n",
    "    \n",
    "    # Iterate over the classes. Find the class with the highest probabiity.\n",
    "    # We predict that class as the class that we are going to use for predictions.\n",
    "\n",
    "    # Probabilities of each class.\n",
    "    probabilities = [[0,0] for i in range(Y.shape[0])]\n",
    "\n",
    "    for i in range(classes.shape[0]):\n",
    "        # Choose close i as the positive class and the others as the negative class.\n",
    "        Y_temp = np.where(Y == i, 1, 0)\n",
    "        \n",
    "        X_temp, theta_temp = gradient_descent(X, Y_temp, learning_rate=learning_rate, \n",
    "                                              logistic=True, max_iters=max_iters, regularization=regularization)\n",
    "        probs = hypothesis(theta_temp, X_temp, True)\n",
    "        temp_classes = predict_class(probs)\n",
    "                \n",
    "        for j in range(len(probabilities)):\n",
    "            if probs[j, 0] > probabilities[j][0]:\n",
    "                probabilities[j] = [probs[j, 0], i]\n",
    "                \n",
    "    return probabilities\n",
    "      \n",
    "X = [[3], [4], [5], [3], [4], [5], [3], [4], [5], [3], [4], [5], [3], [4], [5], [3], [4], [5]]\n",
    "Y = [[0], [1], [2], [0], [1], [2], [0], [1], [2], [3], [4], [5], [3], [4], [5], [3], [4], [5]]\n",
    "\n",
    "X = np.array(X, dtype='float')\n",
    "Y = np.array(Y, dtype='float')\n",
    "\n",
    "    \n",
    "logistic_classification_multi(X, Y, learning_rate=0.5, regularization=0.1, max_iters=10000)"
   ]
  },
  {
   "cell_type": "code",
   "execution_count": 330,
   "metadata": {},
   "outputs": [
    {
     "name": "stdout",
     "output_type": "stream",
     "text": [
      "Learning rate 0.01\n",
      "Converged!\n"
     ]
    },
    {
     "data": {
      "text/plain": [
       "array([[0],\n",
       "       [1],\n",
       "       [0],\n",
       "       [1],\n",
       "       [0],\n",
       "       [1],\n",
       "       [0],\n",
       "       [1]])"
      ]
     },
     "execution_count": 330,
     "metadata": {},
     "output_type": "execute_result"
    }
   ],
   "source": [
    "def logistic_classification_multi(X, Y, learning_rate=0.01, regularization=0.01, max_iters=1000):\n",
    "    X, theta = gradient_descent(X, Y, learning_rate=learning_rate, logistic=True, max_iters=max_iters, \n",
    "                               regularization=regularization)\n",
    "    probs = hypothesis(theta, X)\n",
    "    return predict_class(probs)\n",
    "\n",
    "X = [[1], [2], [1], [2], [1], [2], [1], [2]]\n",
    "Y = [[0], [1], [0], [1], [0], [1], [0], [1]]\n",
    "\n",
    "X = np.array(X, dtype='float',)\n",
    "Y = np.array(Y, dtype='float')\n",
    "\n",
    "logistic_classification_multi(X, Y)"
   ]
  },
  {
   "cell_type": "code",
   "execution_count": null,
   "metadata": {},
   "outputs": [],
   "source": [
    "\n",
    "    "
   ]
  },
  {
   "cell_type": "code",
   "execution_count": 402,
   "metadata": {},
   "outputs": [
    {
     "name": "stdout",
     "output_type": "stream",
     "text": [
      "[1.]\n",
      "[1. 1.]\n",
      "[1. 0. 0. 0.]\n",
      "[1. 0. 0. 0.]\n",
      "[0.]\n"
     ]
    }
   ],
   "source": [
    "class NeuralNetwork:\n",
    "    \n",
    "    def __init__(self, X, Y, num_features, *layers):\n",
    "        \"\"\"Sets up the hideen layers in the network and the inital values of theta.\"\"\"\n",
    "        \n",
    "        self.number_of_layers = len(layers) + 1\n",
    "        self.size_of_layers = list(layers)\n",
    "        self.size_of_layers.insert(0, num_features)\n",
    "        \n",
    "        self.theta = []\n",
    "        self.nodes = []\n",
    "        \n",
    "        self.num_features = num_features\n",
    "        \n",
    "        self.X = X\n",
    "        self.Y = Y\n",
    "\n",
    "    def forward_propagation(self, X_inp):\n",
    "        \"\"\"Calcules the hypothesis via feed forward propagation.\"\"\"\n",
    "        print(X_inp)\n",
    "    \n",
    "        # Insert the X_input into X\n",
    "        self.nodes[0][1:] = X_inp\n",
    "        \n",
    "        for node in self.nodes:\n",
    "            print(node)\n",
    "    \n",
    "        for i in range(len(self.theta)):\n",
    "            pass\n",
    "            \n",
    "    \n",
    "    \n",
    "    def train_neural_network(self, X, Y):\n",
    "        \"\"\"Trains the neural network model. \n",
    "        Layers passed in contains two keys,\n",
    "        number of layers and array containing\n",
    "        the size of each layer.\"\"\"\n",
    "        \n",
    "        # Now we need to instantiate the layers.\n",
    "        # We need to use random initialization this time.\n",
    "        # Zero initialization will not work.\n",
    "\n",
    "        # We're going to find epsilon for random initialisation\n",
    "        epsilon = 2\n",
    "\n",
    "        self.theta = []\n",
    "        self.nodes = [] # We're also creating the hidden node matrices.\n",
    "\n",
    "        # Append the X input nodes into the activation nodes.\n",
    "        self.nodes.append(np.array([0 for i in range(self.num_features)], dtype='float'))\n",
    "        # We are using a list and not a 2 dimensional matrix as a two dimensional\n",
    "        # so that we can store different number of nodes in different layers.\n",
    "        self.nodes[0] = np.insert(self.nodes[0], 0, 1)\n",
    "\n",
    "        for i in range(self.number_of_layers - 1):\n",
    "            self.theta.append(np.random.rand(self.size_of_layers[i+1], \n",
    "                                        self.size_of_layers[i] + 1) * (2*epsilon) - (epsilon))\n",
    "            self.nodes.append(np.zeros(self.size_of_layers[i+1]))\n",
    "            \n",
    "            if i != self.number_of_layers - 2:\n",
    "                self.nodes[i+1] = np.insert(self.nodes[i+1], 0, 1) # Do not want to insert a 1 in the last layer\n",
    "\n",
    "    \n",
    "        # Now we need to perform forward propagation.\n",
    "        self.forward_propagation(X[0])\n",
    " \n",
    "\n",
    "        \n",
    "       \n",
    "    \n",
    "# l and sizes must match\n",
    "nn = NeuralNetwork(X, Y, X.shape[1], 3, 3, 1)\n",
    "nn.train_neural_network(X, Y)"
   ]
  },
  {
   "cell_type": "code",
   "execution_count": null,
   "metadata": {},
   "outputs": [],
   "source": []
  }
 ],
 "metadata": {
  "kernelspec": {
   "display_name": "ml",
   "language": "python",
   "name": "ml"
  },
  "language_info": {
   "codemirror_mode": {
    "name": "ipython",
    "version": 3
   },
   "file_extension": ".py",
   "mimetype": "text/x-python",
   "name": "python",
   "nbconvert_exporter": "python",
   "pygments_lexer": "ipython3",
   "version": "3.8.3"
  }
 },
 "nbformat": 4,
 "nbformat_minor": 4
}
